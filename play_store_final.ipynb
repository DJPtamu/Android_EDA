{
 "cells": [
  {
   "cell_type": "markdown",
   "metadata": {},
   "source": [
    "# \"Earning through In-app ads – Analyzing the android market\"\n",
    "\n",
    "**My aim** in this project is to find preferable android app profile that can generate reasonable profits by the in-app ads. This can help an Android app developing company providing the preferences such as Category or Genre to be targeted for their next app development.\n",
    "\n",
    "**Approach taken** by me along with the primary constrains related to the android markets are as follows:\n",
    "- App has to be free(In the paid apps, users doesn’t want to see any advertisements)\n",
    "- Language preference: English\n",
    "- App profile having highest run time engagement(Longer the user stays engaged with app, more the chances of ad generated earnings)\n",
    "\n",
    "My approach led me to a **surprising deduction**. By analyzing the free android apps market through the data extracted from Google Play Store , I found that category of  ‘Books and Reference’ seems to be more promising than the obviously expected ‘Entertainment’ and ‘Tools’ categories. Let's see how I reached this analytical decision.\n",
    "\n"
   ]
  },
  {
   "cell_type": "markdown",
   "metadata": {},
   "source": [
    "## 1. Opening and Exploring the Data\n",
    "\n",
    "A data set containing data about approximately ten thousand Android apps from Google Play. You can download the data set directly from this link.\n",
    "\n",
    "### Step 1: Opening and reading the CSV file:"
   ]
  },
  {
   "cell_type": "code",
   "execution_count": 1,
   "metadata": {},
   "outputs": [],
   "source": [
    "from csv import reader\n",
    "import matplotlib.pyplot as plt\n",
    "opened_file = open('googleplaystore.csv', encoding='utf8')\n",
    "read_file = reader(opened_file)\n",
    "android = list(read_file)\n",
    "android_header = android[0]\n",
    "android = android[1:]"
   ]
  },
  {
   "cell_type": "markdown",
   "metadata": {},
   "source": [
    "### Step 2: Exploring the data by creating and using the explore function:\n",
    "I created the `function ‘explore’` that can be used repeatedly to explore the data slice from the main data set, mentioning the 'beginning and ending row indices', can show total number of rows and columns of the main data set by providing 'True'.\n"
   ]
  },
  {
   "cell_type": "code",
   "execution_count": 2,
   "metadata": {},
   "outputs": [
    {
     "name": "stdout",
     "output_type": "stream",
     "text": [
      "['App', 'Category', 'Rating', 'Reviews', 'Size', 'Installs', 'Type', 'Price', 'Content Rating', 'Genres', 'Last Updated', 'Current Ver', 'Android Ver'] \n",
      "\n",
      "['Photo Editor & Candy Camera & Grid & ScrapBook', 'ART_AND_DESIGN', '4.1', '159', '19M', '10,000+', 'Free', '0', 'Everyone', 'Art & Design', 'January 7, 2018', '1.0.0', '4.0.3 and up']\n",
      "\n",
      "\n",
      "['Coloring book moana', 'ART_AND_DESIGN', '3.9', '967', '14M', '500,000+', 'Free', '0', 'Everyone', 'Art & Design;Pretend Play', 'January 15, 2018', '2.0.0', '4.0.3 and up']\n",
      "\n",
      "\n",
      "['U Launcher Lite – FREE Live Cool Themes, Hide Apps', 'ART_AND_DESIGN', '4.7', '87510', '8.7M', '5,000,000+', 'Free', '0', 'Everyone', 'Art & Design', 'August 1, 2018', '1.2.4', '4.0.3 and up']\n",
      "\n",
      "\n",
      "['Sketch - Draw & Paint', 'ART_AND_DESIGN', '4.5', '215644', '25M', '50,000,000+', 'Free', '0', 'Teen', 'Art & Design', 'June 8, 2018', 'Varies with device', '4.2 and up']\n",
      "\n",
      "\n",
      "Number of rows: 10841\n",
      "Number of columns: 13\n"
     ]
    }
   ],
   "source": [
    "def explore(dataset, start, end, row_column=False):\n",
    "    dataslice = dataset[start:end]\n",
    "    \n",
    "    for row in dataslice:\n",
    "        print (row)\n",
    "        print ('\\n')\n",
    "    if row_column:\n",
    "        print('Number of rows:', len(dataset))\n",
    "        print('Number of columns:', len(dataset[0]))\n",
    "\n",
    "print(android_header, '\\n')\n",
    "explore(android, 0, 4, row_column=True)"
   ]
  },
  {
   "cell_type": "markdown",
   "metadata": {},
   "source": [
    "It is observed that the Google Play data set has **10841 apps along with their 13 features**.\n",
    "Out of the 13 features, useful features for our analysis are ‘App’, ‘Category’, ‘Reviews’, ‘Installs’, ‘Type’, ‘Price’ and ‘Genres’.\n",
    "Name of the columns clearly state the features mentioned by them. If someone finds difficulty with understanding some features, can have a look at the Dataset Documentation."
   ]
  },
  {
   "cell_type": "markdown",
   "metadata": {},
   "source": [
    "## 2. Data cleaning:\n",
    "\n",
    "### Step 1: Detecting and removing rows with missing values:\n",
    "\n",
    "\n",
    "The rows with the missing data can be easily detected by comparing **‘requirelen’: required number of entries in a row determined from header row** and **‘len(row)’: number of entries present in each row** using a for loop. If later is found less than former than that particular row misses some data and needs to be worked upon.\n"
   ]
  },
  {
   "cell_type": "code",
   "execution_count": 3,
   "metadata": {},
   "outputs": [
    {
     "name": "stdout",
     "output_type": "stream",
     "text": [
      "10472\n",
      "Total faulty rows:1\n"
     ]
    }
   ],
   "source": [
    "requirelen = len(android_header)\n",
    "fault = 0\n",
    "for row in android:\n",
    "    if len(row) != requirelen:\n",
    "        print(android.index(row))\n",
    "        fault += 1\n",
    "print('Total faulty rows:' + str(fault))"
   ]
  },
  {
   "cell_type": "markdown",
   "metadata": {},
   "source": [
    "Row with  *'index number:10472'*   is detected as a row with missing value. Let’s compare and see which feature is missing from the data. "
   ]
  },
  {
   "cell_type": "code",
   "execution_count": 4,
   "metadata": {},
   "outputs": [
    {
     "name": "stdout",
     "output_type": "stream",
     "text": [
      "['App', 'Category', 'Rating', 'Reviews', 'Size', 'Installs', 'Type', 'Price', 'Content Rating', 'Genres', 'Last Updated', 'Current Ver', 'Android Ver']\n",
      "['Life Made WI-Fi Touchscreen Photo Frame', '1.9', '19', '3.0M', '1,000+', 'Free', '0', 'Everyone', '', 'February 11, 2018', '1.0.19', '4.0 and up']\n"
     ]
    }
   ],
   "source": [
    "print(android_header)\n",
    "print(android[10472])"
   ]
  },
  {
   "cell_type": "markdown",
   "metadata": {},
   "source": [
    "After comparing one can say that value for the *column:‘Rating’* is missed because current value of rating for app **‘Life Made Wi-Fi Touchscreen Photo Frame’** is 19 which is more than the maximum rating criteria of Google play store which is ‘5’. So, let’s remove this row."
   ]
  },
  {
   "cell_type": "code",
   "execution_count": 5,
   "metadata": {},
   "outputs": [
    {
     "name": "stdout",
     "output_type": "stream",
     "text": [
      "10840\n"
     ]
    }
   ],
   "source": [
    "del android[10472]      #do not run this twice\n",
    "print(len(android))     #to confirm deletion"
   ]
  },
  {
   "cell_type": "markdown",
   "metadata": {},
   "source": [
    "Now we have **10840 apps** remaining."
   ]
  },
  {
   "cell_type": "markdown",
   "metadata": {},
   "source": [
    "### Step 2: Removing duplicates:\n",
    "\n",
    "\n",
    "By observing the dataset enough, one can find many instances of the duplicates i.e. more than one row for the same app. For example, app namely **‘Googe Ads’ have three rows** which is not desirable."
   ]
  },
  {
   "cell_type": "code",
   "execution_count": 6,
   "metadata": {},
   "outputs": [
    {
     "name": "stdout",
     "output_type": "stream",
     "text": [
      "['Google Ads', 'BUSINESS', '4.3', '29313', '20M', '5,000,000+', 'Free', '0', 'Everyone', 'Business', 'July 30, 2018', '1.12.0', '4.0.3 and up']\n",
      "['Google Ads', 'BUSINESS', '4.3', '29313', '20M', '5,000,000+', 'Free', '0', 'Everyone', 'Business', 'July 30, 2018', '1.12.0', '4.0.3 and up']\n",
      "['Google Ads', 'BUSINESS', '4.3', '29331', '20M', '5,000,000+', 'Free', '0', 'Everyone', 'Business', 'July 30, 2018', '1.12.0', '4.0.3 and up']\n"
     ]
    }
   ],
   "source": [
    "for row in android:\n",
    "    name = row[0]\n",
    "    \n",
    "    if name == 'Google Ads':\n",
    "        print(row)"
   ]
  },
  {
   "cell_type": "markdown",
   "metadata": {},
   "source": [
    "Let’s count the number of rows that can be considered as ‘duplicates’ looping for the ‘app names’ through the dataset."
   ]
  },
  {
   "cell_type": "code",
   "execution_count": 7,
   "metadata": {},
   "outputs": [
    {
     "name": "stdout",
     "output_type": "stream",
     "text": [
      "duplicate apps:1181\n",
      "unique apps:9659\n"
     ]
    }
   ],
   "source": [
    "unique_app = []\n",
    "duplicate_app = []\n",
    "for row in android:\n",
    "    name = row[0]\n",
    "    if name in unique_app:\n",
    "        duplicate_app.append(name)\n",
    "    else:\n",
    "        unique_app.append(name)\n",
    "\n",
    "print('duplicate apps:' + str(len(duplicate_app)))\n",
    "print('unique apps:' + str(len(unique_app)))"
   ]
  },
  {
   "cell_type": "markdown",
   "metadata": {},
   "source": [
    "In total, there are **1,181 cases of duplicates** where an app occurs more than once.\n",
    "\n",
    "~~I do not want these duplicates to be included in my analysis~~ because this can alter the analytical results. To get rid of the duplicates, I want a list of apps having only one row per each app name.\n",
    "\n",
    "But the **decisive part is: Which particular row of an app out of its duplicates will be the best fit for our analysis dataset?**. If you see the example shown above for app ‘Google Ads’, noticeable difference is in the *‘number of reviews’*.'\n",
    "**Answer: The row with the highest number of reviews can be considered as the latest data and will give the accurate and reliable details for the app.**\n"
   ]
  },
  {
   "cell_type": "markdown",
   "metadata": {},
   "source": [
    "For this, Let’s first create a `dictionary 'reviews_max'` in which we will store unique app names as ‘Key’ and their corresponding maximum reviews as ‘Key Values’.\n",
    "At the end I also confirm that 'Unique apps(9659)' = 'Total apps(10840)' - 'Duplicate apps(1181)'"
   ]
  },
  {
   "cell_type": "code",
   "execution_count": 8,
   "metadata": {},
   "outputs": [
    {
     "name": "stdout",
     "output_type": "stream",
     "text": [
      "9659\n"
     ]
    }
   ],
   "source": [
    "reviews_max = {}\n",
    "for row in android:\n",
    "    name = row[0]\n",
    "    nreviews = float(row[3])\n",
    "    if name in reviews_max and reviews_max[name] < nreviews:\n",
    "        reviews_max[name] = nreviews\n",
    "    else:\n",
    "        reviews_max[name] = nreviews\n",
    "print(len(reviews_max))"
   ]
  },
  {
   "cell_type": "markdown",
   "metadata": {},
   "source": [
    "Now, let's use the `dictionary 'reviews_max'` to remove the duplicates. I created a `list ‘android_unique’` and added unique apps one by one with the row having maximum number of reviews only. To avoid adding the rows not hvaing the highest reviews, I added an `if condition` using \"reviews_max\"."
   ]
  },
  {
   "cell_type": "code",
   "execution_count": 9,
   "metadata": {},
   "outputs": [
    {
     "name": "stdout",
     "output_type": "stream",
     "text": [
      "9659\n",
      "[['Photo Editor & Candy Camera & Grid & ScrapBook', 'ART_AND_DESIGN', '4.1', '159', '19M', '10,000+', 'Free', '0', 'Everyone', 'Art & Design', 'January 7, 2018', '1.0.0', '4.0.3 and up'], ['U Launcher Lite – FREE Live Cool Themes, Hide Apps', 'ART_AND_DESIGN', '4.7', '87510', '8.7M', '5,000,000+', 'Free', '0', 'Everyone', 'Art & Design', 'August 1, 2018', '1.2.4', '4.0.3 and up'], ['Sketch - Draw & Paint', 'ART_AND_DESIGN', '4.5', '215644', '25M', '50,000,000+', 'Free', '0', 'Teen', 'Art & Design', 'June 8, 2018', 'Varies with device', '4.2 and up'], ['Pixel Draw - Number Art Coloring Book', 'ART_AND_DESIGN', '4.3', '967', '2.8M', '100,000+', 'Free', '0', 'Everyone', 'Art & Design;Creativity', 'June 20, 2018', '1.1', '4.4 and up'], ['Paper flowers instructions', 'ART_AND_DESIGN', '4.4', '167', '5.6M', '50,000+', 'Free', '0', 'Everyone', 'Art & Design', 'March 26, 2017', '1.0', '2.3 and up'], ['Smoke Effect Photo Maker - Smoke Editor', 'ART_AND_DESIGN', '3.8', '178', '19M', '50,000+', 'Free', '0', 'Everyone', 'Art & Design', 'April 26, 2018', '1.1', '4.0.3 and up']]\n"
     ]
    }
   ],
   "source": [
    "android_unique = []\n",
    "already_added = []\n",
    "for row in android:\n",
    "    name = row[0]\n",
    "    nreviews = float(row[3])\n",
    "    if name not in already_added and nreviews == reviews_max[name]:\n",
    "        android_unique.append(row)\n",
    "        already_added.append(name)\n",
    "print(len(android_unique))\n",
    "print(android_unique[:6])"
   ]
  },
  {
   "cell_type": "markdown",
   "metadata": {},
   "source": [
    "### Step 3: Modifying data to fit analysis purpose:\n",
    "\n",
    "#### Part 1. Removing Non-English Apps\n",
    "\n",
    "By observing the dataset enough, one can even find many instances of the app names which surely are non-English.\n",
    "\n",
    "To observe this, first create a `function ‘english’` which will use an `in-built function ‘ord’` to check `ASCII code of alphabets` of an app name. Allowed characters: the English alphabet, numbers composed of digits from 0 to 9, punctuation marks (., !, ?, ;, etc.), and other symbols (+, *, /, etc.). **All allowable mentioned here have ASCII code less than or equal to 127**. So, if this function finds a non-English/allowable character in an app’s name, it will `return Boolean False`. By using this function and for loop, I checked for non-English apps and found the following result: "
   ]
  },
  {
   "cell_type": "code",
   "execution_count": 10,
   "metadata": {},
   "outputs": [
    {
     "name": "stdout",
     "output_type": "stream",
     "text": [
      "258 :      ['漫咖 Comics - Manga,Novel and Stories', 'COMICS', '4.1', '12088', '21M', '1,000,000+', 'Free', '0', 'Mature 17+', 'Comics', 'July 6, 2018', '2.3.1', '4.0.3 and up'] \n",
      "\n",
      "265 :      ['【Ranobbe complete free】 Novelba - Free app that you can read and write novels', 'COMICS', 'NaN', '1330', '22M', '50,000+', 'Free', '0', 'Everyone', 'Comics', 'July 3, 2018', '6.1.1', '4.2 and up'] \n",
      "\n",
      "640 :      ['🔥 Football Wallpapers 4K | Full HD Backgrounds 😍', 'ENTERTAINMENT', '4.7', '11661', '4.0M', '1,000,000+', 'Free', '0', 'Everyone', 'Entertainment', 'July 14, 2018', '1.1.3.2', '4.0.3 and up'] \n",
      "\n",
      "770 :      ['İşCep', 'FINANCE', '4.5', '381788', '32M', '10,000,000+', 'Free', '0', 'Everyone', 'Finance', 'August 2, 2018', '3.22.0', '4.1 and up'] \n",
      "\n",
      "1087 :      ['乐屋网: Buying a house, selling a house, renting a house', 'HOUSE_AND_HOME', '3.7', '2248', '15M', '100,000+', 'Free', '0', 'Everyone', 'House & Home', 'August 3, 2018', 'v3.1.1', '4.0 and up'] \n",
      "\n",
      "1180 :      ['သိင်္ Astrology - Min Thein Kha BayDin', 'LIFESTYLE', '4.7', '2225', '15M', '100,000+', 'Free', '0', 'Everyone', 'Lifestyle', 'July 26, 2018', '4.2.1', '4.0.3 and up'] \n",
      "\n",
      "1805 :      ['💘 WhatsLov: Smileys of love, stickers and GIF', 'SOCIAL', '4.6', '22098', '18M', '1,000,000+', 'Free', '0', 'Everyone', 'Social', 'July 24, 2018', '4.2.4', '4.0.3 and up'] \n",
      "\n",
      "2643 :      ['РИА Новости', 'NEWS_AND_MAGAZINES', '4.5', '44274', '8.0M', '1,000,000+', 'Free', '0', 'Everyone', 'News & Magazines', 'August 6, 2018', '4.0.6', '4.4 and up'] \n",
      "\n",
      "2690 :      ['乗換NAVITIME\\u3000Timetable & Route Search in Japan Tokyo', 'MAPS_AND_NAVIGATION', '4.4', '50459', 'Varies with device', '5,000,000+', 'Free', '0', 'Everyone', 'Maps & Navigation', 'July 26, 2018', 'Varies with device', 'Varies with device'] \n",
      "\n",
      "2722 :      ['ÖBB Scotty', 'MAPS_AND_NAVIGATION', '4.2', '12572', '24M', '1,000,000+', 'Free', '0', 'Everyone', 'Maps & Navigation', 'February 19, 2018', '5.4 (30)', '4.0 and up'] \n",
      "\n",
      "2821 :      ['► MultiCraft ― Free Miner! 👍', 'GAME', '4.3', '1305050', 'Varies with device', '50,000,000+', 'Free', '0', 'Everyone 10+', 'Adventure', 'July 29, 2018', '1.1.11.11', '4.1 and up'] \n",
      "\n",
      "3046 :      ['صور حرف H', 'ART_AND_DESIGN', '4.4', '13', '4.5M', '1,000+', 'Free', '0', 'Everyone', 'Art & Design', 'March 27, 2018', '2.0', '4.0.3 and up'] \n",
      "\n",
      "3212 :      [\"💎 I'm rich\", 'LIFESTYLE', '3.8', '718', '26M', '10,000+', 'Paid', '$399.99', 'Everyone', 'Lifestyle', 'March 11, 2018', '1.0.0', '4.4 and up'] \n",
      "\n",
      "4360 :      ['中国語 AQリスニング', 'FAMILY', 'NaN', '21', '17M', '5,000+', 'Free', '0', 'Everyone', 'Education', 'June 22, 2016', '2.4.0', '4.0 and up'] \n",
      "\n",
      "4415 :      ['【Miku AR Camera】Mikuture', 'FAMILY', '4.4', '36268', '41M', '1,000,000+', 'Free', '0', 'Teen', 'Entertainment', 'April 25, 2017', '3.0.15', '4.2 and up'] \n",
      "\n",
      "4544 :      ['日本AV历史', 'BOOKS_AND_REFERENCE', '4.1', '215', '30M', '10,000+', 'Free', '0', 'Teen', 'Books & Reference', 'March 6, 2018', '1.2', '4.0 and up'] \n",
      "\n",
      "4678 :      ['¡Ay Caramba!', 'FAMILY', 'NaN', '0', '549k', '1+', 'Paid', '$1.99', 'Everyone', 'Education', 'June 13, 2014', '1.2', '3.0 and up'] \n",
      "\n",
      "4690 :      ['¡Ay Metro!', 'GAME', '3.8', '489', '36M', '10,000+', 'Free', '0', 'Everyone 10+', 'Arcade', 'March 17, 2015', '1.0.3.1', '4.0 and up'] \n",
      "\n",
      "4850 :      ['বাংলা টিভি প্রো BD Bangla TV', 'FAMILY', '4.3', '193', '14M', '10,000+', 'Free', '0', 'Everyone', 'Entertainment', 'April 29, 2017', '1.3', '4.0 and up'] \n",
      "\n",
      "5178 :      ['뽕티비 - 개인방송, 인터넷방송, BJ방송', 'VIDEO_PLAYERS', 'NaN', '414', '59M', '100,000+', 'Free', '0', 'Mature 17+', 'Video Players & Editors', 'July 18, 2018', '4.0.7', '4.0.3 and up'] \n",
      "\n",
      "5262 :      ['あなカレ【BL】無料ゲーム', 'FAMILY', '4.7', '6073', '8.5M', '100,000+', 'Free', '0', 'Mature 17+', 'Simulation', 'February 25, 2018', '4.2.2', '2.3 and up'] \n",
      "\n",
      "5264 :      ['감성학원 BL 첫사랑', 'COMICS', '4.4', '190', '34M', '10,000+', 'Free', '0', 'Everyone', 'Comics', 'November 17, 2017', '3.2.1', '3.0 and up'] \n",
      "\n",
      "6017 :      ['Билеты ПДД CD 2019 PRO', 'AUTO_AND_VEHICLES', 'NaN', '21', '16M', '100+', 'Paid', '$1.49', 'Everyone', 'Auto & Vehicles', 'July 27, 2018', '1.49', '4.0 and up'] \n",
      "\n",
      "6021 :      ['РееI Smart Remote MP3 CD Player', 'TOOLS', '3.2', '27', '2.7M', '5,000+', 'Free', '0', 'Everyone', 'Tools', 'January 22, 2018', '1.2', '4.0 and up'] \n",
      "\n",
      "6393 :      ['📏 Smart Ruler ↔️ cm/inch measuring for homework!', 'TOOLS', '4.0', '19', '3.2M', '10,000+', 'Free', '0', 'Everyone', 'Tools', 'October 21, 2017', '1.0', '4.2 and up'] \n",
      "\n",
      "6584 :      ['الفاتحون Conquerors', 'FAMILY', '4.5', '108130', '40M', '5,000,000+', 'Free', '0', 'Teen', 'Strategy', 'August 3, 2018', '1.8.0', '4.0 and up'] \n",
      "\n",
      "6651 :      ['Аim Training for CS', 'GAME', '3.6', '2328', '12M', '100,000+', 'Free', '0', 'Everyone', 'Action', 'October 25, 2014', '1.8', '2.3 and up'] \n",
      "\n",
      "6965 :      ['Šmelina .cz inzeráty inzerce', 'SHOPPING', '3.9', '117', '9.8M', '10,000+', 'Free', '0', 'Everyone', 'Shopping', 'May 13, 2018', '1.3', '4.0 and up'] \n",
      "\n",
      "7939 :      ['لعبة تقدر تربح DZ', 'FAMILY', '4.2', '238', '6.8M', '10,000+', 'Free', '0', 'Everyone', 'Education', 'November 18, 2016', '6.0.0.0', '4.1 and up'] \n",
      "\n",
      "8022 :      ['বাংলাflix', 'FAMILY', '4.2', '1111', '7.3M', '100,000+', 'Free', '0', 'Everyone', 'Entertainment', 'June 5, 2018', '3.6.1', '4.1 and up'] \n",
      "\n",
      "8044 :      ['英漢字典 EC Dictionary', 'FAMILY', '4.3', '55408', 'Varies with device', '1,000,000+', 'Free', '0', 'Everyone', 'Education', 'January 8, 2018', 'Varies with device', 'Varies with device'] \n",
      "\n",
      "8130 :      ['أحداث وحقائق | خبر عاجل في اخبار العالم', 'NEWS_AND_MAGAZINES', '4.8', '311', '14M', '5,000+', 'Free', '0', 'Everyone 10+', 'News & Magazines', 'July 15, 2018', '2.9.19a', '4.2 and up'] \n",
      "\n",
      "8288 :      ['パーリーゲイツ公式通販｜EJ STYLE（イージェイスタイル）', 'SHOPPING', 'NaN', '1', '9.3M', '100+', 'Free', '0', 'Everyone', 'Shopping', 'November 16, 2017', '3.0', '4.0.3 and up'] \n",
      "\n",
      "8641 :      ['¿Es Vegan?', 'FOOD_AND_DRINK', '4.6', '438', '1.7M', '10,000+', 'Free', '0', 'Everyone', 'Food & Drink', 'August 1, 2017', '2.2.3', '3.0 and up'] \n",
      "\n",
      "8650 :      ['Égalité et Réconciliation', 'NEWS_AND_MAGAZINES', '4.9', '58', '3.8M', '500+', 'Paid', '$2.99', 'Everyone', 'News & Magazines', 'May 26, 2018', '1.1.1', '5.0 and up'] \n",
      "\n",
      "8930 :      ['哈哈姆特不EY', 'COMMUNICATION', 'NaN', '239', '18M', '10,000+', 'Free', '0', 'Everyone', 'Communication', 'July 31, 2018', '1.3.4', '4.4 and up'] \n",
      "\n",
      "\n",
      "Number of non_english apps:36\n"
     ]
    }
   ],
   "source": [
    "def english (word):\n",
    "    for element in word:\n",
    "        if ord(element) > 127:\n",
    "            return False\n",
    "        else:\n",
    "            return True\n",
    "\n",
    "non_english = 0\n",
    "for row in android_unique:\n",
    "    name=row[0]\n",
    "    if english(name) == False:\n",
    "       print(android_unique.index(row), ':     ', row, '\\n')\n",
    "       non_english += 1\n",
    "\n",
    "print('\\n' + 'Number of non_english apps:' + str(non_english))"
   ]
  },
  {
   "cell_type": "markdown",
   "metadata": {},
   "source": [
    "I found that there are **36 non-English apps**. By going through the app names in the printed list, I found that there are some apps which have been *'considered non-English because of the special characters present in their names'*. For example:\n",
    "- '🔥 Football Wallpapers 4K | Full HD Backgrounds 😍' at index ‘640’, \n",
    "- ‘MultiCraft ― Free Miner! 👍’ at index ‘2821’.\n",
    "\n",
    "To provide some leniency for such apps, I added a `variable ‘count’` which will *'count the total non-English characters in app’s name with the allowable limit of 5'*. So now, our `function ‘english5’` will check app names and consider it as non-English allowing upto 5 instances per each app name. \n",
    "\n",
    "This actually opens some grey area where few non-English apps will be able to pass our function checking and might few English apps (having more than 5 special characters in name) still will be considered as non-English. But, such instances will be very less and for now we can say that fuction ‘english’ works well as shown below:"
   ]
  },
  {
   "cell_type": "code",
   "execution_count": 11,
   "metadata": {},
   "outputs": [
    {
     "name": "stdout",
     "output_type": "stream",
     "text": [
      "521 :      ['Flame - درب عقلك يوميا', 'EDUCATION', '4.6', '56065', '37M', '1,000,000+', 'Free', '0', 'Everyone', 'Education', 'July 26, 2018', '3.3', '4.1 and up'] \n",
      "\n",
      "2643 :      ['РИА Новости', 'NEWS_AND_MAGAZINES', '4.5', '44274', '8.0M', '1,000,000+', 'Free', '0', 'Everyone', 'News & Magazines', 'August 6, 2018', '4.0.6', '4.4 and up'] \n",
      "\n",
      "3046 :      ['صور حرف H', 'ART_AND_DESIGN', '4.4', '13', '4.5M', '1,000+', 'Free', '0', 'Everyone', 'Art & Design', 'March 27, 2018', '2.0', '4.0.3 and up'] \n",
      "\n",
      "3174 :      ['L.POINT - 엘포인트 [ 포인트, 멤버십, 적립, 사용, 모바일 카드, 쿠폰, 롯데]', 'LIFESTYLE', '4.0', '45224', '49M', '5,000,000+', 'Free', '0', 'Everyone', 'Lifestyle', 'August 1, 2018', '6.5.1', '4.1 and up'] \n",
      "\n",
      "3399 :      ['RMEduS - 음성인식을 활용한 R 프로그래밍 실습 시스템', 'FAMILY', 'NaN', '4', '64M', '1+', 'Free', '0', 'Everyone', 'Education', 'July 17, 2018', '1.0.1', '4.4 and up'] \n",
      "\n",
      "4113 :      ['AJ렌터카 법인 카셰어링', 'MAPS_AND_NAVIGATION', 'NaN', '0', '27M', '10+', 'Free', '0', 'Everyone', 'Maps & Navigation', 'July 30, 2018', '1.0.0.0', '4.3 and up'] \n",
      "\n",
      "4193 :      ['Al Quran Free - القرآن (Islam)', 'BOOKS_AND_REFERENCE', '4.7', '1777', '23M', '50,000+', 'Free', '0', 'Everyone', 'Books & Reference', 'February 15, 2015', '1.1', '2.2 and up'] \n",
      "\n",
      "4360 :      ['中国語 AQリスニング', 'FAMILY', 'NaN', '21', '17M', '5,000+', 'Free', '0', 'Everyone', 'Education', 'June 22, 2016', '2.4.0', '4.0 and up'] \n",
      "\n",
      "4850 :      ['বাংলা টিভি প্রো BD Bangla TV', 'FAMILY', '4.3', '193', '14M', '10,000+', 'Free', '0', 'Everyone', 'Entertainment', 'April 29, 2017', '1.3', '4.0 and up'] \n",
      "\n",
      "5009 :      ['Cъновник BG', 'BOOKS_AND_REFERENCE', 'NaN', '13', '4.1M', '1,000+', 'Free', '0', 'Everyone', 'Books & Reference', 'January 21, 2017', '250', '4.0 and up'] \n",
      "\n",
      "5045 :      ['CSCS BG (в български)', 'FAMILY', '2.4', '7', '2.1M', '100+', 'Paid', '$3.99', 'Everyone', 'Education', 'March 23, 2017', '1.0', '4.0.3 and up'] \n",
      "\n",
      "5178 :      ['뽕티비 - 개인방송, 인터넷방송, BJ방송', 'VIDEO_PLAYERS', 'NaN', '414', '59M', '100,000+', 'Free', '0', 'Mature 17+', 'Video Players & Editors', 'July 18, 2018', '4.0.7', '4.0.3 and up'] \n",
      "\n",
      "5250 :      ['BL 女性向け恋愛ゲーム◆俺プリクロス', 'FAMILY', '4.2', '3379', '62M', '100,000+', 'Free', '0', 'Mature 17+', 'Simulation', 'March 23, 2017', '1.6.3', '2.3.3 and up'] \n",
      "\n",
      "5259 :      ['SecondSecret ‐「恋を読む」BLノベルゲーム‐', 'GAME', '4.4', '1563', '40M', '50,000+', 'Free', '0', 'Teen', 'Adventure', 'June 29, 2017', '1.3.6', '4.0 and up'] \n",
      "\n",
      "5261 :      ['BL 女性向け恋愛ゲーム◆ごくメン', 'FAMILY', '4.2', '1901', '8.2M', '100,000+', 'Free', '0', 'Mature 17+', 'Simulation', 'July 7, 2016', '1.3.0', '2.3.3 and up'] \n",
      "\n",
      "5262 :      ['あなカレ【BL】無料ゲーム', 'FAMILY', '4.7', '6073', '8.5M', '100,000+', 'Free', '0', 'Mature 17+', 'Simulation', 'February 25, 2018', '4.2.2', '2.3 and up'] \n",
      "\n",
      "5264 :      ['감성학원 BL 첫사랑', 'COMICS', '4.4', '190', '34M', '10,000+', 'Free', '0', 'Everyone', 'Comics', 'November 17, 2017', '3.2.1', '3.0 and up'] \n",
      "\n",
      "5466 :      ['BQ-መጽሐፍ ቅዱሳዊ ጥያቄዎች', 'GAME', '4.7', '191', '7.2M', '5,000+', 'Free', '0', 'Everyone', 'Trivia', 'July 31, 2018', '4.1.2', '4.1 and up'] \n",
      "\n",
      "5566 :      ['BS Calendar / Patro / पात्रो', 'PRODUCTIVITY', '4.2', '218', 'Varies with device', '50,000+', 'Free', '0', 'Everyone', 'Productivity', 'July 15, 2018', 'Varies with device', 'Varies with device'] \n",
      "\n",
      "5642 :      ['Vip视频免费看-BT磁力搜索', 'TOOLS', 'NaN', '20', '7.9M', '1,000+', 'Free', '0', 'Everyone', 'Tools', 'June 8, 2018', '1.2', '4.0 and up'] \n",
      "\n",
      "6017 :      ['Билеты ПДД CD 2019 PRO', 'AUTO_AND_VEHICLES', 'NaN', '21', '16M', '100+', 'Paid', '$1.49', 'Everyone', 'Auto & Vehicles', 'July 27, 2018', '1.49', '4.0 and up'] \n",
      "\n",
      "6584 :      ['الفاتحون Conquerors', 'FAMILY', '4.5', '108130', '40M', '5,000,000+', 'Free', '0', 'Teen', 'Strategy', 'August 3, 2018', '1.8.0', '4.0 and up'] \n",
      "\n",
      "7939 :      ['لعبة تقدر تربح DZ', 'FAMILY', '4.2', '238', '6.8M', '10,000+', 'Free', '0', 'Everyone', 'Education', 'November 18, 2016', '6.0.0.0', '4.1 and up'] \n",
      "\n",
      "8033 :      ['RPG ブレイジング ソウルズ アクセレイト', 'FAMILY', '3.4', '159', '3.1M', '1,000+', 'Paid', '$10.99', 'Teen', 'Role Playing', 'April 26, 2018', '2.12', '2.3 and up'] \n",
      "\n",
      "8070 :      ['ECナビ×シュフー', 'LIFESTYLE', '4.0', '576', '7.4M', '50,000+', 'Free', '0', 'Everyone', 'Lifestyle', 'June 7, 2018', '1.0.2', '4.0 and up'] \n",
      "\n",
      "8130 :      ['أحداث وحقائق | خبر عاجل في اخبار العالم', 'NEWS_AND_MAGAZINES', '4.8', '311', '14M', '5,000+', 'Free', '0', 'Everyone 10+', 'News & Magazines', 'July 15, 2018', '2.9.19a', '4.2 and up'] \n",
      "\n",
      "8288 :      ['パーリーゲイツ公式通販｜EJ STYLE（イージェイスタイル）', 'SHOPPING', 'NaN', '1', '9.3M', '100+', 'Free', '0', 'Everyone', 'Shopping', 'November 16, 2017', '3.0', '4.0.3 and up'] \n",
      "\n",
      "8756 :      [\"I'm Rich/Eu sou Rico/أنا غني/我很有錢\", 'LIFESTYLE', 'NaN', '0', '40M', '0+', 'Paid', '$399.99', 'Everyone', 'Lifestyle', 'December 1, 2017', 'MONEY', '4.1 and up'] \n",
      "\n",
      "8919 :      ['Ey Sey Storytime រឿងនិទានតាឥសី', 'FAMILY', '4.7', '1327', '44M', '10,000+', 'Free', '0', 'Everyone', 'Education;Education', 'May 18, 2017', '1.2.2', '4.0.3 and up'] \n",
      "\n",
      "9582 :      ['FP Разбитый дисплей', 'FAMILY', '4.5', '922', '552k', '50,000+', 'Free', '0', 'Everyone', 'Entertainment', 'September 20, 2014', '1.1', '1.6 and up'] \n",
      "\n",
      "30\n"
     ]
    }
   ],
   "source": [
    "def english5 (word):\n",
    "    count = 0\n",
    "    for element in word:\n",
    "        if ord(element) > 127:\n",
    "            count+=1\n",
    "    if count > 5:\n",
    "        return False\n",
    "    else:\n",
    "        return True\n",
    "\n",
    "android_english = []\n",
    "non_english = 0\n",
    "for row in android_unique:\n",
    "    name=row[0]\n",
    "    if english5(name):\n",
    "        android_english.append(row)\n",
    "    else:\n",
    "        non_english += 1\n",
    "        print(android_unique.index(row), ':     ', row, '\\n')\n",
    "print(non_english)"
   ]
  },
  {
   "cell_type": "markdown",
   "metadata": {},
   "source": [
    "From the results above, there are **30 apps that has been considered non-English by our function allowing upto 5 special characters.**\n",
    "\n",
    "To remove these 30, I created a `list 'android_english'` and added only the English apps from the previous `list 'android_clean'` ."
   ]
  },
  {
   "cell_type": "code",
   "execution_count": 12,
   "metadata": {},
   "outputs": [
    {
     "name": "stdout",
     "output_type": "stream",
     "text": [
      "['Photo Editor & Candy Camera & Grid & ScrapBook', 'ART_AND_DESIGN', '4.1', '159', '19M', '10,000+', 'Free', '0', 'Everyone', 'Art & Design', 'January 7, 2018', '1.0.0', '4.0.3 and up']\n",
      "\n",
      "\n",
      "['U Launcher Lite – FREE Live Cool Themes, Hide Apps', 'ART_AND_DESIGN', '4.7', '87510', '8.7M', '5,000,000+', 'Free', '0', 'Everyone', 'Art & Design', 'August 1, 2018', '1.2.4', '4.0.3 and up']\n",
      "\n",
      "\n",
      "['Sketch - Draw & Paint', 'ART_AND_DESIGN', '4.5', '215644', '25M', '50,000,000+', 'Free', '0', 'Teen', 'Art & Design', 'June 8, 2018', 'Varies with device', '4.2 and up']\n",
      "\n",
      "\n",
      "['Pixel Draw - Number Art Coloring Book', 'ART_AND_DESIGN', '4.3', '967', '2.8M', '100,000+', 'Free', '0', 'Everyone', 'Art & Design;Creativity', 'June 20, 2018', '1.1', '4.4 and up']\n",
      "\n",
      "\n",
      "['Paper flowers instructions', 'ART_AND_DESIGN', '4.4', '167', '5.6M', '50,000+', 'Free', '0', 'Everyone', 'Art & Design', 'March 26, 2017', '1.0', '2.3 and up']\n",
      "\n",
      "\n",
      "Number of rows: 9629\n",
      "Number of columns: 13\n"
     ]
    }
   ],
   "source": [
    "explore(android_english, 0, 5, row_column = True)"
   ]
  },
  {
   "cell_type": "markdown",
   "metadata": {},
   "source": [
    "Now we have **9629 English apps** left for analysis.(9659-30 = 9629)."
   ]
  },
  {
   "cell_type": "markdown",
   "metadata": {},
   "source": [
    "#### Part 2. Removing Paid Apps\n",
    "\n",
    "Following the primary constrains for my analysis, I need to 'remove the paid apps' from the `list android_english`. \n",
    "\n",
    "To remove paid apps, I used for 'for loop' to check price of apps in *android_english* and only took apps having *price = ‘0’* into the new `list android_final` as shown below:"
   ]
  },
  {
   "cell_type": "code",
   "execution_count": 13,
   "metadata": {},
   "outputs": [
    {
     "name": "stdout",
     "output_type": "stream",
     "text": [
      "['Photo Editor & Candy Camera & Grid & ScrapBook', 'ART_AND_DESIGN', '4.1', '159', '19M', '10,000+', 'Free', '0', 'Everyone', 'Art & Design', 'January 7, 2018', '1.0.0', '4.0.3 and up']\n",
      "\n",
      "\n",
      "['U Launcher Lite – FREE Live Cool Themes, Hide Apps', 'ART_AND_DESIGN', '4.7', '87510', '8.7M', '5,000,000+', 'Free', '0', 'Everyone', 'Art & Design', 'August 1, 2018', '1.2.4', '4.0.3 and up']\n",
      "\n",
      "\n",
      "['Sketch - Draw & Paint', 'ART_AND_DESIGN', '4.5', '215644', '25M', '50,000,000+', 'Free', '0', 'Teen', 'Art & Design', 'June 8, 2018', 'Varies with device', '4.2 and up']\n",
      "\n",
      "\n",
      "['Pixel Draw - Number Art Coloring Book', 'ART_AND_DESIGN', '4.3', '967', '2.8M', '100,000+', 'Free', '0', 'Everyone', 'Art & Design;Creativity', 'June 20, 2018', '1.1', '4.4 and up']\n",
      "\n",
      "\n",
      "['Paper flowers instructions', 'ART_AND_DESIGN', '4.4', '167', '5.6M', '50,000+', 'Free', '0', 'Everyone', 'Art & Design', 'March 26, 2017', '1.0', '2.3 and up']\n",
      "\n",
      "\n",
      "Number of rows: 8879\n",
      "Number of columns: 13\n"
     ]
    }
   ],
   "source": [
    "android_final = []\n",
    "for row in android_english:\n",
    "    price = (row[7])\n",
    "    if price == '0':\n",
    "        android_final.append(row)\n",
    "explore(android_final, 0, 5, row_column=True)"
   ]
  },
  {
   "cell_type": "markdown",
   "metadata": {},
   "source": [
    "Now, list android_final having **8879 apps which are English and Free apps with no missing or incorrect entries**, is ready for our analysis purposes."
   ]
  },
  {
   "cell_type": "markdown",
   "metadata": {},
   "source": [
    "Write about category frequency table, percentage table"
   ]
  },
  {
   "cell_type": "markdown",
   "metadata": {},
   "source": [
    "### Step 4: Analysing data:\n",
    "\n",
    "#### Part 1. Number of apps per each category :\n",
    "\n",
    "I started Exploratory Data Analysis with **counting number of apps in each category** and computing **Percentage distribution for each category under whole Android Dataset** using `cft()` function."
   ]
  },
  {
   "cell_type": "code",
   "execution_count": 14,
   "metadata": {},
   "outputs": [
    {
     "data": {
      "text/plain": [
       "{'ART_AND_DESIGN': 0.641964185155986,\n",
       " 'AUTO_AND_VEHICLES': 0.9235274242594886,\n",
       " 'BEAUTY': 0.5969140668994256,\n",
       " 'BOOKS_AND_REFERENCE': 2.1624056763149007,\n",
       " 'BUSINESS': 4.583849532605023,\n",
       " 'COMICS': 0.6194391260277058,\n",
       " 'COMMUNICATION': 3.2548710440364905,\n",
       " 'DATING': 1.8583173780831175,\n",
       " 'EDUCATION': 1.1262529564140107,\n",
       " 'ENTERTAINMENT': 0.8784773060029283,\n",
       " 'EVENTS': 0.7095393625408267,\n",
       " 'FINANCE': 3.6941096970379546,\n",
       " 'FOOD_AND_DRINK': 1.2388782520554116,\n",
       " 'HEALTH_AND_FITNESS': 3.0634080414461087,\n",
       " 'HOUSE_AND_HOME': 0.8221646581822277,\n",
       " 'LIBRARIES_AND_DEMO': 0.9347899538236288,\n",
       " 'LIFESTYLE': 3.9193602883207572,\n",
       " 'GAME': 9.49431242257011,\n",
       " 'FAMILY': 19.2364004955513,\n",
       " 'MEDICAL': 3.5364342831399935,\n",
       " 'SOCIAL': 2.657956977137065,\n",
       " 'SHOPPING': 2.241243383263881,\n",
       " 'PHOTOGRAPHY': 2.9507827458047076,\n",
       " 'SPORTS': 3.412546457934452,\n",
       " 'TRAVEL_AND_LOCAL': 2.331343619777002,\n",
       " 'TOOLS': 8.446897173105079,\n",
       " 'PERSONALIZATION': 3.322446221421331,\n",
       " 'PRODUCTIVITY': 3.885572699628337,\n",
       " 'PARENTING': 0.6532267147201262,\n",
       " 'WEATHER': 0.7996395990539475,\n",
       " 'VIDEO_PLAYERS': 1.7794796711341365,\n",
       " 'NEWS_AND_MAGAZINES': 2.8156323910350265,\n",
       " 'MAPS_AND_NAVIGATION': 1.4078161955175132}"
      ]
     },
     "execution_count": 14,
     "metadata": {},
     "output_type": "execute_result"
    }
   ],
   "source": [
    "def cft (dataset, index):\n",
    "    total = 0\n",
    "    freq_table = {}\n",
    "    per_table = {}\n",
    "    \n",
    "    for element in dataset:\n",
    "        total += 1\n",
    "        value = element[index]\n",
    "        if value in freq_table:\n",
    "            freq_table[value] += 1\n",
    "        else:\n",
    "            freq_table[value] = 1\n",
    "            \n",
    "    for element in freq_table:\n",
    "        percentage = freq_table[element]/total*100\n",
    "        per_table[element] = percentage\n",
    "        \n",
    "    return per_table\n",
    "\n",
    "cft(android_final, 1)"
   ]
  },
  {
   "cell_type": "markdown",
   "metadata": {},
   "source": [
    "But above produced result is not sorted. So I created another function `sort_table()` to be used to sort the data produced by ``cft()’ in the *descending order*.\n",
    "I have even used **String Formatting techniques** to limiting percentages to 4 decimals and adding % sign at the end.\n"
   ]
  },
  {
   "cell_type": "code",
   "execution_count": 15,
   "metadata": {},
   "outputs": [
    {
     "name": "stdout",
     "output_type": "stream",
     "text": [
      "FAMILY = 19.2364%\n",
      "GAME = 9.4943%\n",
      "TOOLS = 8.4469%\n",
      "BUSINESS = 4.5838%\n",
      "LIFESTYLE = 3.9194%\n",
      "PRODUCTIVITY = 3.8856%\n",
      "FINANCE = 3.6941%\n",
      "MEDICAL = 3.5364%\n",
      "SPORTS = 3.4125%\n",
      "PERSONALIZATION = 3.3224%\n",
      "COMMUNICATION = 3.2549%\n",
      "HEALTH_AND_FITNESS = 3.0634%\n",
      "PHOTOGRAPHY = 2.9508%\n",
      "NEWS_AND_MAGAZINES = 2.8156%\n",
      "SOCIAL = 2.6580%\n",
      "TRAVEL_AND_LOCAL = 2.3313%\n",
      "SHOPPING = 2.2412%\n",
      "BOOKS_AND_REFERENCE = 2.1624%\n",
      "DATING = 1.8583%\n",
      "VIDEO_PLAYERS = 1.7795%\n",
      "MAPS_AND_NAVIGATION = 1.4078%\n",
      "FOOD_AND_DRINK = 1.2389%\n",
      "EDUCATION = 1.1263%\n",
      "LIBRARIES_AND_DEMO = 0.9348%\n",
      "AUTO_AND_VEHICLES = 0.9235%\n",
      "ENTERTAINMENT = 0.8785%\n",
      "HOUSE_AND_HOME = 0.8222%\n",
      "WEATHER = 0.7996%\n",
      "EVENTS = 0.7095%\n",
      "PARENTING = 0.6532%\n",
      "ART_AND_DESIGN = 0.6420%\n",
      "COMICS = 0.6194%\n",
      "BEAUTY = 0.5969%\n"
     ]
    }
   ],
   "source": [
    "def sort_table(dataset, index):\n",
    "    table = cft(dataset, index)\n",
    "    display = []\n",
    "    for key in table:\n",
    "        tpl = (table[key], key)\n",
    "        display.append(tpl)\n",
    "        \n",
    "    table_sorted = sorted(display, reverse = True)\n",
    "    for entry in table_sorted:\n",
    "        string = \"{} = {:.4f}%\". format(entry[1], entry[0])\n",
    "        print(string)\n",
    "        \n",
    "sort_table(android_final, 1)"
   ]
  },
  {
   "cell_type": "markdown",
   "metadata": {},
   "source": [
    "We can see that categories like **“FAMILY”, “GAME”, “TOOLS” and “BUSINESS” collectively occupies 41.7614 % of total number of apps present in Android Market**, which can be interpreted as **“Numerous apps are already there under these categories and a new app into these will rarely ever grab any attention.”**"
   ]
  },
  {
   "cell_type": "markdown",
   "metadata": {},
   "source": [
    "#### Part 2. Number of average installs per app for each category:\n",
    "\n",
    "In this part, I looked for the average number of installs that an app can expect for the particular category. For this, first we will have to define a `list categories_android[]` which will contain the names of total categories present in our dataset."
   ]
  },
  {
   "cell_type": "code",
   "execution_count": 16,
   "metadata": {
    "scrolled": true
   },
   "outputs": [
    {
     "name": "stdout",
     "output_type": "stream",
     "text": [
      "['ART_AND_DESIGN', 'AUTO_AND_VEHICLES', 'BEAUTY', 'BOOKS_AND_REFERENCE', 'BUSINESS', 'COMICS', 'COMMUNICATION', 'DATING', 'EDUCATION', 'ENTERTAINMENT', 'EVENTS', 'FINANCE', 'FOOD_AND_DRINK', 'HEALTH_AND_FITNESS', 'HOUSE_AND_HOME', 'LIBRARIES_AND_DEMO', 'LIFESTYLE', 'GAME', 'FAMILY', 'MEDICAL', 'SOCIAL', 'SHOPPING', 'PHOTOGRAPHY', 'SPORTS', 'TRAVEL_AND_LOCAL', 'TOOLS', 'PERSONALIZATION', 'PRODUCTIVITY', 'PARENTING', 'WEATHER', 'VIDEO_PLAYERS', 'NEWS_AND_MAGAZINES', 'MAPS_AND_NAVIGATION']\n",
      "\n",
      " Total Categories = 33\n"
     ]
    }
   ],
   "source": [
    "categories_android = []\n",
    "for each in android_final:\n",
    "    name = each[1]\n",
    "    if name not in categories_android:\n",
    "        categories_android.append(name)\n",
    "        \n",
    "print(categories_android)\n",
    "print(\"\\n Total Categories = \" + str(len(categories_android)))"
   ]
  },
  {
   "cell_type": "markdown",
   "metadata": {},
   "source": [
    "We can see that there are total **33 unique categories.**\n",
    "\n",
    "Now for every app, we will add its number of installs  to the corresponding category’s total installs and keep the count for number of apps in each category that has been processed. \n",
    "\n",
    "At the end, **dividing total installs by number of apps** for each category will give our required statistics."
   ]
  },
  {
   "cell_type": "code",
   "execution_count": 17,
   "metadata": {
    "scrolled": true
   },
   "outputs": [],
   "source": [
    "#for romiving '+' from the end of number of install values for each app\n",
    "for app in android_final:\n",
    "    i = app[5]\n",
    "#     i = i.replace(',', '')\n",
    "    i = i.replace('+', '')\n",
    "    app[5] = i"
   ]
  },
  {
   "cell_type": "code",
   "execution_count": 18,
   "metadata": {},
   "outputs": [
    {
     "data": {
      "text/plain": [
       "{'ART_AND_DESIGN': 1986335.0877192982,\n",
       " 'AUTO_AND_VEHICLES': 647317.8170731707,\n",
       " 'BEAUTY': 513151.88679245283,\n",
       " 'BOOKS_AND_REFERENCE': 8676537.8125,\n",
       " 'BUSINESS': 1700127.9852579853,\n",
       " 'COMICS': 817657.2727272727,\n",
       " 'COMMUNICATION': 38193481.66435986,\n",
       " 'DATING': 854028.8303030303,\n",
       " 'EDUCATION': 1768500.0,\n",
       " 'ENTERTAINMENT': 9146923.076923076,\n",
       " 'EVENTS': 253542.22222222222,\n",
       " 'FINANCE': 1387692.475609756,\n",
       " 'FOOD_AND_DRINK': 1924897.7363636363,\n",
       " 'HEALTH_AND_FITNESS': 4167457.3602941176,\n",
       " 'HOUSE_AND_HOME': 1331540.5616438356,\n",
       " 'LIBRARIES_AND_DEMO': 638503.734939759,\n",
       " 'LIFESTYLE': 1429869.0488505748,\n",
       " 'GAME': 12914435.883748516,\n",
       " 'FAMILY': 5168680.731850117,\n",
       " 'MEDICAL': 123064.7898089172,\n",
       " 'SOCIAL': 23253652.127118643,\n",
       " 'SHOPPING': 7036877.311557789,\n",
       " 'PHOTOGRAPHY': 17772018.759541985,\n",
       " 'SPORTS': 4274688.722772277,\n",
       " 'TRAVEL_AND_LOCAL': 13984077.710144928,\n",
       " 'TOOLS': 10801391.298666667,\n",
       " 'PERSONALIZATION': 5183850.806779661,\n",
       " 'PRODUCTIVITY': 16772838.591304347,\n",
       " 'PARENTING': 542603.6206896552,\n",
       " 'WEATHER': 5074486.197183099,\n",
       " 'VIDEO_PLAYERS': 24790074.17721519,\n",
       " 'NEWS_AND_MAGAZINES': 9472829.04,\n",
       " 'MAPS_AND_NAVIGATION': 4025286.24}"
      ]
     },
     "execution_count": 18,
     "metadata": {},
     "output_type": "execute_result"
    }
   ],
   "source": [
    "avg_installs = {}\n",
    "for category in categories_android:\n",
    "    total = 0\n",
    "    len_category = 0\n",
    "    for app in android_final:\n",
    "        category_app = app[1]\n",
    "        if category_app == category:            \n",
    "            n_installs = app[5]\n",
    "            n_installs = n_installs.replace(',', '')\n",
    "            total += int(n_installs)\n",
    "            len_category += 1\n",
    "    avg_n_installs = total / len_category\n",
    "    avg_installs[category]=avg_n_installs\n",
    "    \n",
    "avg_installs"
   ]
  },
  {
   "cell_type": "markdown",
   "metadata": {},
   "source": [
    "Let us sort the above results according to the highest number of average installs per app for particular category."
   ]
  },
  {
   "cell_type": "code",
   "execution_count": 19,
   "metadata": {
    "scrolled": false
   },
   "outputs": [
    {
     "data": {
      "text/plain": [
       "[('COMMUNICATION', 38193481.66435986),\n",
       " ('VIDEO_PLAYERS', 24790074.17721519),\n",
       " ('SOCIAL', 23253652.127118643),\n",
       " ('PHOTOGRAPHY', 17772018.759541985),\n",
       " ('PRODUCTIVITY', 16772838.591304347),\n",
       " ('TRAVEL_AND_LOCAL', 13984077.710144928),\n",
       " ('GAME', 12914435.883748516),\n",
       " ('TOOLS', 10801391.298666667),\n",
       " ('NEWS_AND_MAGAZINES', 9472829.04),\n",
       " ('ENTERTAINMENT', 9146923.076923076),\n",
       " ('BOOKS_AND_REFERENCE', 8676537.8125),\n",
       " ('SHOPPING', 7036877.311557789),\n",
       " ('PERSONALIZATION', 5183850.806779661),\n",
       " ('FAMILY', 5168680.731850117),\n",
       " ('WEATHER', 5074486.197183099),\n",
       " ('SPORTS', 4274688.722772277),\n",
       " ('HEALTH_AND_FITNESS', 4167457.3602941176),\n",
       " ('MAPS_AND_NAVIGATION', 4025286.24),\n",
       " ('ART_AND_DESIGN', 1986335.0877192982),\n",
       " ('FOOD_AND_DRINK', 1924897.7363636363),\n",
       " ('EDUCATION', 1768500.0),\n",
       " ('BUSINESS', 1700127.9852579853),\n",
       " ('LIFESTYLE', 1429869.0488505748),\n",
       " ('FINANCE', 1387692.475609756),\n",
       " ('HOUSE_AND_HOME', 1331540.5616438356),\n",
       " ('DATING', 854028.8303030303),\n",
       " ('COMICS', 817657.2727272727),\n",
       " ('AUTO_AND_VEHICLES', 647317.8170731707),\n",
       " ('LIBRARIES_AND_DEMO', 638503.734939759),\n",
       " ('PARENTING', 542603.6206896552),\n",
       " ('BEAUTY', 513151.88679245283),\n",
       " ('EVENTS', 253542.22222222222),\n",
       " ('MEDICAL', 123064.7898089172)]"
      ]
     },
     "execution_count": 19,
     "metadata": {},
     "output_type": "execute_result"
    }
   ],
   "source": [
    "avg_installs_sorted = sorted(avg_installs.items(), key=lambda item: (item[1], item[0]), reverse= True)\n",
    "avg_installs_sorted"
   ]
  },
  {
   "cell_type": "markdown",
   "metadata": {},
   "source": [
    "As seen above, categories like **”COMMUNICATION”, “VIDEO_PLAYERS”, “SOCIAL”, “PHOTOGRAPHY”, “PRODUCTIVITY”, “TRAVEL_AND_LOCAL”, “GAME”, “TOOLS”, “NEWS_AND_MAGAZINES”, “ENTERTAINMENT” are the Top 10 categories getting the highest average number of installs per app.** So, these categories are believed to offer more users for an app."
   ]
  },
  {
   "cell_type": "markdown",
   "metadata": {},
   "source": [
    "Let us check *the trend of number of installs per app* under the “COMMUNICATION” category."
   ]
  },
  {
   "cell_type": "code",
   "execution_count": 20,
   "metadata": {
    "scrolled": true
   },
   "outputs": [
    {
     "name": "stdout",
     "output_type": "stream",
     "text": [
      "1,000,000,000 : 6\n",
      "500,000,000 : 5\n",
      "100,000,000 : 16\n",
      "50,000,000 : 7\n",
      "10,000,000 : 43\n",
      "5,000,000 : 22\n",
      "1,000,000 : 41\n",
      "500,000 : 9\n",
      "100,000 : 16\n",
      "50,000 : 10\n",
      "10,000 : 21\n",
      "5,000 : 16\n",
      "1,000 : 19\n",
      "500 : 8\n",
      "100 : 28\n",
      "50 : 5\n",
      "10 : 14\n",
      "5 : 2\n",
      "1 : 1\n"
     ]
    }
   ],
   "source": [
    "install_counts = {}\n",
    "for app in android_final:\n",
    "    if app[1] == \"COMMUNICATION\":\n",
    "        installs = app[5]\n",
    "        installs = installs.replace(\",\", \"\")\n",
    "        installs = int(installs)\n",
    "        if installs not in install_counts:\n",
    "            install_counts[installs] = 1\n",
    "        else:\n",
    "            install_counts[installs] += 1\n",
    "        \n",
    "install_counts_sorted = sorted(install_counts.items(), key=lambda item: (item[0], item[1]), reverse= True)\n",
    "install_counts_sorted\n",
    "\n",
    "for each in install_counts_sorted:\n",
    "    string = '{:,} : {}'.format(each[0], each[1])\n",
    "    print(string)"
   ]
  },
  {
   "cell_type": "markdown",
   "metadata": {},
   "source": [
    "Above we can see that **there are 6 apps having 1 billion or more users i.e. 1000 million or more users each and 5 apps having 500 million users each**. **Don’t you think that these 11 apps together dominate the whole category?**\n",
    "\n",
    "Let’s check out the % of users these 11 apps occupies against the rest.\n"
   ]
  },
  {
   "cell_type": "code",
   "execution_count": 21,
   "metadata": {
    "scrolled": true
   },
   "outputs": [
    {
     "name": "stdout",
     "output_type": "stream",
     "text": [
      "77.0073%\n"
     ]
    }
   ],
   "source": [
    "users_total = 0\n",
    "users_11 = 0\n",
    "\n",
    "for each in install_counts:\n",
    "    users_total += install_counts[each]*each\n",
    "    if each > 499999999:\n",
    "        users_11 += install_counts[each]*each\n",
    "        \n",
    "print('{:.4f}%'.format((users_11*100)/users_total))"
   ]
  },
  {
   "cell_type": "markdown",
   "metadata": {},
   "source": [
    "That is surprising. **Just 11 apps hold the 77 % of the total users in COMMUNICATION category**. It will be a stupidity trying to target such categories where beating the giants seem to be next to impossible.\n",
    "\n",
    "Curiosity drove me to **find out names of these giants.**\n"
   ]
  },
  {
   "cell_type": "code",
   "execution_count": 22,
   "metadata": {},
   "outputs": [
    {
     "name": "stdout",
     "output_type": "stream",
     "text": [
      "Messenger – Text and Video Chat for Free : 1,000,000,000\n",
      "Gmail : 1,000,000,000\n",
      "imo free video calls and chat : 500,000,000\n",
      "Google Duo - High Quality Video Calls : 500,000,000\n",
      "UC Browser - Fast Download Private & Secure : 500,000,000\n",
      "Skype - free IM & video calls : 1,000,000,000\n",
      "WhatsApp Messenger : 1,000,000,000\n",
      "Google Chrome: Fast & Secure : 1,000,000,000\n",
      "LINE: Free Calls & Messages : 500,000,000\n",
      "Hangouts : 1,000,000,000\n",
      "Viber Messenger : 500,000,000\n"
     ]
    }
   ],
   "source": [
    "for app in android_final:\n",
    "    if app[1] == 'COMMUNICATION' and (app[5] == '1,000,000,000' or app[5] == '500,000,000'):\n",
    "        print(app[0], ':', app[5])"
   ]
  },
  {
   "cell_type": "markdown",
   "metadata": {},
   "source": [
    "It will be a stupidity trying to target such categories where beating the giants like \"Messenger of facebook, Gmail, Skype, Whatsapp and Hangouts\" will be next to impossible for a new app."
   ]
  },
  {
   "cell_type": "markdown",
   "metadata": {},
   "source": [
    "After digging out more information for each category similar to our findings for “COMMUNICATION” category, I made the following conclusions."
   ]
  },
  {
   "cell_type": "markdown",
   "metadata": {},
   "source": [
    "| Category Name    | Reason for not considering                                                |\n",
    "|:-----------------|:--------------------------------------------------------------------------|\n",
    "| Communication    | Dominated by few Giants (Whatsapp, Messenger, Gmail, etc..)               |\n",
    "| Video-players    | Dominated by few Giants (Youtube, Google Play Movies & TV, MX Player)     |\n",
    "| Social           | Dominated by few Giants (Facebook, Instagram, etc..)                      |\n",
    "| Photography      | Dominated by few Giants (Adobe, Google photos and editor, etc..)          |\n",
    "| Productivity     | Dominated by few Giants (Microsoft Word, Dropbox, Google Calendar, etc..) |\n",
    "| Travel & Local   | Enormous travelling data and regular local updates are required           |\n",
    "| Games            | Seem to be more saturated already                                         |\n",
    "| Tools            | Seem to be more saturated already                                         |\n",
    "| News & Magazines | Can be targeted but Google Voice assistance reads news without ads        |\n",
    "| Entertainment    | Dominated by few Giants (Netflix, Hotstar, Amazon Prime, etc..)           |"
   ]
  },
  {
   "cell_type": "markdown",
   "metadata": {},
   "source": [
    "Our next category for consideration is **“BOOKS_AND_REFERENCE”**. Let’s checkout the number of installs distribution for this."
   ]
  },
  {
   "cell_type": "code",
   "execution_count": 23,
   "metadata": {},
   "outputs": [
    {
     "name": "stdout",
     "output_type": "stream",
     "text": [
      "1,000,000,000 : 6\n",
      "500,000,000 : 5\n",
      "100,000,000 : 16\n",
      "50,000,000 : 7\n",
      "10,000,000 : 43\n",
      "5,000,000 : 22\n",
      "1,000,000 : 41\n",
      "500,000 : 9\n",
      "100,000 : 16\n",
      "50,000 : 10\n",
      "10,000 : 21\n",
      "5,000 : 16\n",
      "1,000 : 19\n",
      "500 : 8\n",
      "100 : 28\n",
      "50 : 5\n",
      "10 : 14\n",
      "5 : 2\n",
      "1 : 1\n"
     ]
    }
   ],
   "source": [
    "install_counts_b = {}\n",
    "for app in android_final:\n",
    "    if app[1] == \"BOOKS_AND_REFERENCE\":\n",
    "        installs = app[5]\n",
    "        installs = installs.replace(\",\", \"\")\n",
    "        installs = int(installs)\n",
    "        if installs not in install_counts_b:\n",
    "            install_counts_b[installs] = 1\n",
    "        else:\n",
    "            install_counts_b[installs] += 1\n",
    "        \n",
    "install_counts_b_sorted = sorted(install_counts.items(), key=lambda item: (item[0], item[1]), reverse= True)\n",
    "install_counts_b_sorted\n",
    "\n",
    "for each in install_counts_b_sorted:\n",
    "    string = '{:,} : {}'.format(each[0], each[1])\n",
    "    print(string)"
   ]
  },
  {
   "cell_type": "markdown",
   "metadata": {},
   "source": [
    "Now, this looks to match our need. There is **only 1 app having 1000 million installs and next 4 apps having 100 million installs**. Later distribution seems to be somewhat evenly. Following are the apps holding majority installs:"
   ]
  },
  {
   "cell_type": "code",
   "execution_count": 24,
   "metadata": {},
   "outputs": [
    {
     "name": "stdout",
     "output_type": "stream",
     "text": [
      "Google Play Books : 1,000,000,000\n",
      "Bible : 100,000,000\n",
      "Amazon Kindle : 100,000,000\n",
      "Wattpad 📖 Free Books : 100,000,000\n",
      "Audiobooks from Audible : 100,000,000\n"
     ]
    }
   ],
   "source": [
    "for app in android_final:\n",
    "    if app[1] == 'BOOKS_AND_REFERENCE' and (app[5] == '1,000,000,000' or app[5] == '500,000,000' or app[5] == '100,000,000'):\n",
    "        print(app[0], ':', app[5])"
   ]
  },
  {
   "cell_type": "markdown",
   "metadata": {},
   "source": [
    "From the above, **Google Play Books** and **Amazon Kindle** have paid services for the majority of the books. **Wattpad Free Books** provide the free STORY books only and **Audiobooks from Audible** lacks the availability of the inbuilt dictionary and/or other features. "
   ]
  },
  {
   "cell_type": "markdown",
   "metadata": {},
   "source": [
    "***\n",
    "**Some Favorable Facts:**\n",
    "\n",
    "* `BOOKS_AND_REFERENCE` is the category in which a user spends lot of time reading on the screen i.e. *More amount of screen engagement*. More the user stays on screen, more advertisements in a not-interrupting manner can be deployed.\n",
    "\n",
    "* Providing an option of *embedded Multilingual Dictionary* which a user can use while reading and *translator services* too before which a short 5-sec advertisement per each time access can be shown.\n",
    "\n",
    "* Users will not be bothered much by advertisements if it is at the cost of *getting paid books to read for free*.\n",
    "\n",
    "* While analyzing, *“Business, Education, Bible”* were found to be few interesting categories which can be productively used for generating Books and references in our app.\n",
    "***"
   ]
  },
  {
   "cell_type": "markdown",
   "metadata": {},
   "source": [
    "So if we choose this category, Let's see how many average installs can we target excluding the 5 giants from the consideration:"
   ]
  },
  {
   "cell_type": "code",
   "execution_count": 25,
   "metadata": {},
   "outputs": [
    {
     "name": "stdout",
     "output_type": "stream",
     "text": [
      "Average installs = 1,421,899.79\n"
     ]
    }
   ],
   "source": [
    "install_total = 0\n",
    "apps_total = 0\n",
    "for app in android_final:\n",
    "    if app[1] == \"BOOKS_AND_REFERENCE\":\n",
    "        installs = app[5]\n",
    "        installs = installs.replace(\",\", \"\")\n",
    "        installs = int(installs)\n",
    "        if installs < 10000001:\n",
    "            install_total += installs\n",
    "            apps_total += 1\n",
    "        \n",
    "string = 'Average installs = {:,.2f}'.format(install_total/apps_total)\n",
    "print(string)"
   ]
  },
  {
   "cell_type": "markdown",
   "metadata": {},
   "source": [
    "Looking at the average number of installs per app, neglecting the top 5 giants, **a new app is likely to get over 1 million installs under “BOOKS AND REFERENCES” category.**"
   ]
  },
  {
   "cell_type": "markdown",
   "metadata": {},
   "source": [
    "### Step 5: Conclusion:\n",
    "\n",
    "With the *stated Favorable facts and 1 million average installs estimated*, it can be concluded that **‘Books and Reference’ seems to be more promising than the obviously expected ‘Entertainment, Social, Communication and Tools’ categories to for a new app to “Earn through In-app ads”.**\n"
   ]
  }
 ],
 "metadata": {
  "kernelspec": {
   "display_name": "Python 3",
   "language": "python",
   "name": "python3"
  },
  "language_info": {
   "codemirror_mode": {
    "name": "ipython",
    "version": 3
   },
   "file_extension": ".py",
   "mimetype": "text/x-python",
   "name": "python",
   "nbconvert_exporter": "python",
   "pygments_lexer": "ipython3",
   "version": "3.7.6"
  }
 },
 "nbformat": 4,
 "nbformat_minor": 2
}
